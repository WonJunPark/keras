{
 "cells": [
  {
   "cell_type": "code",
   "execution_count": 3,
   "metadata": {
    "collapsed": false
   },
   "outputs": [],
   "source": [
    "from keras.datasets import imdb #인터넷 영화 리뷰 50000개의 데이터 셋입니다. 긍정적인 리뷰 50%, 부정적인 리뷰 50%"
   ]
  },
  {
   "cell_type": "code",
   "execution_count": 4,
   "metadata": {
    "collapsed": true
   },
   "outputs": [],
   "source": [
    "(train_data,train_labels),(test_data,test_labels) = imdb.load_data(num_words=10000) \n",
    "#빈도수 상위 10000개의 단어를 훈련과 테스트 데이터로 불러옵니다."
   ]
  },
  {
   "cell_type": "code",
   "execution_count": 5,
   "metadata": {
    "collapsed": true
   },
   "outputs": [],
   "source": [
    "import numpy as np #고성능 과학계산 컴퓨팅을 하는 데이터 분석에 필요한 기본적인 패키지 입니다."
   ]
  },
  {
   "cell_type": "code",
   "execution_count": 6,
   "metadata": {
    "collapsed": true
   },
   "outputs": [],
   "source": [
    "def vectorize_sequences(sequences, dimension=10000):\n",
    "    results = np.zeros((len(sequences),dimension)) #크기가 (len(sequences),dimension)이고 모든 원소가 0인 행렬을 만듭니다.\n",
    "    for i, sequence in enumerate(sequences): #enumerate : 몇 번째 반복문인지 확인할 때 사용합니다.\n",
    "        results[i, sequence] = 1. #results[i]에서 특정 인덱스의 위치를 1로 만듭니다.\n",
    "    return results"
   ]
  },
  {
   "cell_type": "code",
   "execution_count": 8,
   "metadata": {
    "collapsed": true
   },
   "outputs": [],
   "source": [
    "x_train = vectorize_sequences(train_data) #정수 시퀀스를 이진 행렬로 인코딩해줍니다.\n",
    "x_test = vectorize_sequences(test_data)\n",
    "y_train = np.asarray(train_labels).astype('float32')\n",
    "y_test = np.asarray(test_labels).astype('float32')"
   ]
  },
  {
   "cell_type": "code",
   "execution_count": 9,
   "metadata": {
    "collapsed": true
   },
   "outputs": [],
   "source": [
    "from keras import models #models을 저장하고 불러옵니다.\n",
    "from keras import layers #계층을 만들어 줍니다."
   ]
  },
  {
   "cell_type": "code",
   "execution_count": 12,
   "metadata": {
    "collapsed": false
   },
   "outputs": [
    {
     "name": "stdout",
     "output_type": "stream",
     "text": [
      "WARNING:tensorflow:From C:\\Users\\wonjun\\Anaconda3\\lib\\site-packages\\tensorflow\\python\\framework\\op_def_library.py:263: colocate_with (from tensorflow.python.framework.ops) is deprecated and will be removed in a future version.\n",
      "Instructions for updating:\n",
      "Colocations handled automatically by placer.\n"
     ]
    }
   ],
   "source": [
    "model = models.Sequential()\n",
    "model.add(layers.Dense(16, activation = 'relu', input_shape=(10000,))) #10000개의 입력을 받는 3개의 층을 만듭니다.\n",
    "model.add(layers.Dense(16, activation='relu'))\n",
    "model.add(layers.Dense(1, activation='sigmoid'))"
   ]
  },
  {
   "cell_type": "code",
   "execution_count": 16,
   "metadata": {
    "collapsed": true
   },
   "outputs": [],
   "source": [
    "from keras import optimizers #최적화함수를 불러옵니다.\n",
    "from keras import losses #손실함수를 불러옵니다.\n",
    "from keras import metrics"
   ]
  },
  {
   "cell_type": "code",
   "execution_count": 17,
   "metadata": {
    "collapsed": true
   },
   "outputs": [],
   "source": [
    "model.compile(optimizer = optimizers.RMSprop(lr=0.001), #RMSprop으로 최적화 해줍니다\n",
    "             loss=losses.binary_crossentropy, #이진분류 문제이기 때문에 손실함수로 binary crossentropy를 지정 해줍니다.\n",
    "             metrics=[metrics.binary_accuracy])"
   ]
  },
  {
   "cell_type": "code",
   "execution_count": 18,
   "metadata": {
    "collapsed": true
   },
   "outputs": [],
   "source": [
    "x_val = x_train[:10000] #처음 본 데이터에 대한 모델의 정확도를 측정하기 위해 검증 세트를 만들어줍니다.\n",
    "partial_x_train = x_train[10000:]\n",
    "y_val = y_train[:10000]\n",
    "partial_y_train = y_train[10000:]"
   ]
  },
  {
   "cell_type": "code",
   "execution_count": 19,
   "metadata": {
    "collapsed": false
   },
   "outputs": [
    {
     "name": "stdout",
     "output_type": "stream",
     "text": [
      "Train on 15000 samples, validate on 10000 samples\n",
      "Epoch 1/5\n",
      "15000/15000 [==============================] - 231s 15ms/step - loss: 0.1510 - binary_accuracy: 0.9431 - val_loss: 0.1600 - val_binary_accuracy: 0.9410\n",
      "Epoch 2/5\n",
      "15000/15000 [==============================] - 8s 564us/step - loss: 0.1132 - binary_accuracy: 0.9630 - val_loss: 0.1569 - val_binary_accuracy: 0.9423\n",
      "Epoch 3/5\n",
      "15000/15000 [==============================] - 7s 491us/step - loss: 0.0963 - binary_accuracy: 0.9693 - val_loss: 0.1903 - val_binary_accuracy: 0.9287\n",
      "Epoch 4/5\n",
      "15000/15000 [==============================] - 7s 468us/step - loss: 0.0792 - binary_accuracy: 0.9764 - val_loss: 0.2203 - val_binary_accuracy: 0.9190\n",
      "Epoch 5/5\n",
      "15000/15000 [==============================] - 7s 448us/step - loss: 0.0673 - binary_accuracy: 0.9812 - val_loss: 0.2908 - val_binary_accuracy: 0.8955\n"
     ]
    }
   ],
   "source": [
    "history = model.fit(partial_x_train,\n",
    "                   partial_y_train,\n",
    "                   epochs = 5, \n",
    "                   batch_size = 512, #512배치 사이즈로 5번 반복해줍니다.\n",
    "                   validation_data=(x_val,y_val)) "
   ]
  },
  {
   "cell_type": "code",
   "execution_count": 20,
   "metadata": {
    "collapsed": false
   },
   "outputs": [
    {
     "data": {
      "text/plain": [
       "dict_keys(['val_loss', 'loss', 'binary_accuracy', 'val_binary_accuracy'])"
      ]
     },
     "execution_count": 20,
     "metadata": {},
     "output_type": "execute_result"
    }
   ],
   "source": [
    "history_dict = history.history #딕셔너리를 만들어줍니다.\n",
    "history_dict.keys()"
   ]
  },
  {
   "cell_type": "code",
   "execution_count": 21,
   "metadata": {
    "collapsed": true
   },
   "outputs": [],
   "source": [
    "import matplotlib.pyplot as plt #그래프 시각화 라이브러리입니다."
   ]
  },
  {
   "cell_type": "code",
   "execution_count": 22,
   "metadata": {
    "collapsed": false
   },
   "outputs": [
    {
     "data": {
      "image/png": "[encoded data removed]",
      "text/plain": [
       "<matplotlib.figure.Figure at 0x7ce403278>"
      ]
     },
     "metadata": {},
     "output_type": "display_data"
    }
   ],
   "source": [
    "history_dict = history.history #훈련과 검증 손실 그래프를 그려줍니다.\n",
    "loss = history_dict['loss']\n",
    "val_loss = history_dict['val_loss']\n",
    "epochs = range(1,len(loss)+1)\n",
    "plt.plot(epochs, loss, 'bo', label='Training loss')\n",
    "plt.plot(epochs, val_loss, 'b', label='Validation loss')\n",
    "plt.title('Training and validation loss')\n",
    "plt.xlabel('Epochs')\n",
    "plt.ylabel('Loss')\n",
    "plt.legend()\n",
    "plt.show()"
   ]
  },
  {
   "cell_type": "code",
   "execution_count": 23,
   "metadata": {
    "collapsed": false
   },
   "outputs": [
    {
     "data": {
      "image/png": "[encoded data removed]",
      "text/plain": [
       "<matplotlib.figure.Figure at 0x7ce3f7ef0>"
      ]
     },
     "metadata": {},
     "output_type": "display_data"
    }
   ],
   "source": [
    "plt.clf() #그래프를 초기화합니다.\n",
    "acc = history_dict['binary_accuracy'] #훈련과 검증 정확도를 그려줍니다.\n",
    "val_acc = history_dict['val_binary_accuracy']\n",
    "plt.plot(epochs, acc,'bo',label='Training acc')\n",
    "plt.plot(epochs, val_acc, 'b', label='Validation acc')\n",
    "plt.title('Training and validation accuracy')\n",
    "plt.xlabel('Epochs')\n",
    "plt.ylabel('Accuracy')\n",
    "plt.show()"
   ]
  },
  {
   "cell_type": "code",
   "execution_count": null,
   "metadata": {
    "collapsed": true
   },
   "outputs": [],
   "source": []
  },
  {
   "cell_type": "code",
   "execution_count": 24,
   "metadata": {
    "collapsed": true
   },
   "outputs": [],
   "source": [
    "x_train2 = vectorize_sequences(train_data) #정수 시퀀스를 이진 행렬로 인코딩해줍니다.\n",
    "x_test2 = vectorize_sequences(test_data)\n",
    "y_train2 = np.asarray(train_labels).astype('float32')\n",
    "y_test2 = np.asarray(test_labels).astype('float32')"
   ]
  },
  {
   "cell_type": "code",
   "execution_count": null,
   "metadata": {
    "collapsed": true
   },
   "outputs": [],
   "source": []
  },
  {
   "cell_type": "code",
   "execution_count": null,
   "metadata": {
    "collapsed": true
   },
   "outputs": [],
   "source": []
  },
  {
   "cell_type": "code",
   "execution_count": null,
   "metadata": {
    "collapsed": true
   },
   "outputs": [],
   "source": []
  },
  {
   "cell_type": "code",
   "execution_count": null,
   "metadata": {
    "collapsed": true
   },
   "outputs": [],
   "source": []
  }
 ],
 "metadata": {
  "anaconda-cloud": {},
  "kernelspec": {
   "display_name": "Python [conda root]",
   "language": "python",
   "name": "conda-root-py"
  },
  "language_info": {
   "codemirror_mode": {
    "name": "ipython",
    "version": 3
   },
   "file_extension": ".py",
   "mimetype": "text/x-python",
   "name": "python",
   "nbconvert_exporter": "python",
   "pygments_lexer": "ipython3",
   "version": "3.5.2"
  }
 },
 "nbformat": 4,
 "nbformat_minor": 1
}

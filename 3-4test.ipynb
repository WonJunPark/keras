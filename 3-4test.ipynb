{
 "cells": [
  {
   "cell_type": "code",
   "execution_count": 14,
   "metadata": {
    "collapsed": false
   },
   "outputs": [],
   "source": [
    "from keras.datasets import imdb\n",
    "import numpy as np\n",
    "from keras import models\n",
    "from keras import layers\n",
    "from keras import optimizers\n",
    "from keras import losses\n",
    "from keras import metrics\n",
    "import matplotlib.pyplot as plt"
   ]
  },
  {
   "cell_type": "code",
   "execution_count": 15,
   "metadata": {
    "collapsed": true
   },
   "outputs": [],
   "source": [
    "def vectorize_sequences(sequences, dimension=10000):\n",
    "    results = np.zeros((len(sequences),dimension)) \n",
    "    for i, sequence in enumerate(sequences):\n",
    "        results[i, sequence] = 1.\n",
    "    return results"
   ]
  },
  {
   "cell_type": "code",
   "execution_count": 16,
   "metadata": {
    "collapsed": false
   },
   "outputs": [],
   "source": [
    "(train_data,train_labels),(test_data,test_labels) = imdb.load_data(num_words=10000)"
   ]
  },
  {
   "cell_type": "code",
   "execution_count": 17,
   "metadata": {
    "collapsed": false
   },
   "outputs": [],
   "source": [
    "x_train = vectorize_sequences(train_data)\n",
    "x_test = vectorize_sequences(test_data)\n",
    "y_train = np.asarray(train_labels).astype('float32')\n",
    "y_test = np.asarray(test_labels).astype('float32')"
   ]
  },
  {
   "cell_type": "code",
   "execution_count": 18,
   "metadata": {
    "collapsed": false
   },
   "outputs": [],
   "source": [
    "model = models.Sequential()\n",
    "model.add(layers.Dense(16, activation = 'relu', input_shape=(10000,)))\n",
    "model.add(layers.Dense(16, activation='relu'))\n",
    "model.add(layers.Dense(1, activation='sigmoid'))"
   ]
  },
  {
   "cell_type": "code",
   "execution_count": 19,
   "metadata": {
    "collapsed": false
   },
   "outputs": [],
   "source": [
    "model.compile(optimizer = 'RMSProp',\n",
    "             loss='binary_crossentropy',\n",
    "             metrics=[metrics.binary_accuracy])"
   ]
  },
  {
   "cell_type": "code",
   "execution_count": 20,
   "metadata": {
    "collapsed": true
   },
   "outputs": [],
   "source": [
    "x_val = x_train[:10000]\n",
    "partial_x_train = x_train[10000:]\n",
    "y_val = y_train[:10000]\n",
    "partial_y_train = y_train[10000:]"
   ]
  },
  {
   "cell_type": "code",
   "execution_count": 21,
   "metadata": {
    "collapsed": false,
    "scrolled": true
   },
   "outputs": [
    {
     "name": "stdout",
     "output_type": "stream",
     "text": [
      "Train on 15000 samples, validate on 10000 samples\n",
      "Epoch 1/20\n",
      "15000/15000 [==============================] - 15s 984us/step - loss: 0.4976 - binary_accuracy: 0.7953 - val_loss: 0.3717 - val_binary_accuracy: 0.8722\n",
      "Epoch 2/20\n",
      "15000/15000 [==============================] - 8s 524us/step - loss: 0.2957 - binary_accuracy: 0.9045 - val_loss: 0.2990 - val_binary_accuracy: 0.8910\n",
      "Epoch 3/20\n",
      "15000/15000 [==============================] - 7s 493us/step - loss: 0.2160 - binary_accuracy: 0.9286 - val_loss: 0.3087 - val_binary_accuracy: 0.8714\n",
      "Epoch 4/20\n",
      "15000/15000 [==============================] - 7s 458us/step - loss: 0.1742 - binary_accuracy: 0.9432 - val_loss: 0.2831 - val_binary_accuracy: 0.8840\n",
      "Epoch 5/20\n",
      "15000/15000 [==============================] - 7s 463us/step - loss: 0.1414 - binary_accuracy: 0.9543 - val_loss: 0.2863 - val_binary_accuracy: 0.8851\n",
      "Epoch 6/20\n",
      "15000/15000 [==============================] - 7s 484us/step - loss: 0.1142 - binary_accuracy: 0.9654 - val_loss: 0.3091 - val_binary_accuracy: 0.8808\n",
      "Epoch 7/20\n",
      "15000/15000 [==============================] - 7s 464us/step - loss: 0.0969 - binary_accuracy: 0.9709 - val_loss: 0.3148 - val_binary_accuracy: 0.8842\n",
      "Epoch 8/20\n",
      "15000/15000 [==============================] - 7s 496us/step - loss: 0.0802 - binary_accuracy: 0.9764 - val_loss: 0.3869 - val_binary_accuracy: 0.8662\n",
      "Epoch 9/20\n",
      "15000/15000 [==============================] - 7s 473us/step - loss: 0.0657 - binary_accuracy: 0.9820 - val_loss: 0.3653 - val_binary_accuracy: 0.8780\n",
      "Epoch 10/20\n",
      "15000/15000 [==============================] - 7s 472us/step - loss: 0.0553 - binary_accuracy: 0.9853 - val_loss: 0.3865 - val_binary_accuracy: 0.8791\n",
      "Epoch 11/20\n",
      "15000/15000 [==============================] - 7s 452us/step - loss: 0.0453 - binary_accuracy: 0.9887 - val_loss: 0.4183 - val_binary_accuracy: 0.8760\n",
      "Epoch 12/20\n",
      "15000/15000 [==============================] - 8s 508us/step - loss: 0.0385 - binary_accuracy: 0.9912 - val_loss: 0.4522 - val_binary_accuracy: 0.8697\n",
      "Epoch 13/20\n",
      "15000/15000 [==============================] - 7s 490us/step - loss: 0.0298 - binary_accuracy: 0.9939 - val_loss: 0.4717 - val_binary_accuracy: 0.8733\n",
      "Epoch 14/20\n",
      "15000/15000 [==============================] - 7s 496us/step - loss: 0.0243 - binary_accuracy: 0.9950 - val_loss: 0.5027 - val_binary_accuracy: 0.8719\n",
      "Epoch 15/20\n",
      "15000/15000 [==============================] - 7s 470us/step - loss: 0.0185 - binary_accuracy: 0.9973 - val_loss: 0.5320 - val_binary_accuracy: 0.8689\n",
      "Epoch 16/20\n",
      "15000/15000 [==============================] - 7s 465us/step - loss: 0.0156 - binary_accuracy: 0.9981 - val_loss: 0.5717 - val_binary_accuracy: 0.8694\n",
      "Epoch 17/20\n",
      "15000/15000 [==============================] - 7s 469us/step - loss: 0.0145 - binary_accuracy: 0.9977 - val_loss: 0.6001 - val_binary_accuracy: 0.8683\n",
      "Epoch 18/20\n",
      "15000/15000 [==============================] - 7s 467us/step - loss: 0.0102 - binary_accuracy: 0.9986 - val_loss: 0.6301 - val_binary_accuracy: 0.8669\n",
      "Epoch 19/20\n",
      "15000/15000 [==============================] - 7s 468us/step - loss: 0.0060 - binary_accuracy: 0.9998 - val_loss: 0.7501 - val_binary_accuracy: 0.8539\n",
      "Epoch 20/20\n",
      "15000/15000 [==============================] - 7s 470us/step - loss: 0.0092 - binary_accuracy: 0.9981 - val_loss: 0.6964 - val_binary_accuracy: 0.8653\n"
     ]
    }
   ],
   "source": [
    "history = model.fit(partial_x_train,\n",
    "                   partial_y_train,\n",
    "                   epochs = 20,\n",
    "                   batch_size = 512,\n",
    "                   validation_data=(x_val,y_val))"
   ]
  },
  {
   "cell_type": "code",
   "execution_count": null,
   "metadata": {
    "collapsed": true
   },
   "outputs": [],
   "source": []
  }
 ],
 "metadata": {
  "anaconda-cloud": {},
  "kernelspec": {
   "display_name": "Python [conda root]",
   "language": "python",
   "name": "conda-root-py"
  },
  "language_info": {
   "codemirror_mode": {
    "name": "ipython",
    "version": 3
   },
   "file_extension": ".py",
   "mimetype": "text/x-python",
   "name": "python",
   "nbconvert_exporter": "python",
   "pygments_lexer": "ipython3",
   "version": "3.5.2"
  }
 },
 "nbformat": 4,
 "nbformat_minor": 1
}
